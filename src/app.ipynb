{
 "cells": [
  {
   "cell_type": "code",
   "execution_count": 589,
   "metadata": {},
   "outputs": [],
   "source": [
    "import pandas as pd\n",
    "from pathlib import Path\n",
    "import numpy as np"
   ]
  },
  {
   "cell_type": "code",
   "execution_count": 594,
   "metadata": {},
   "outputs": [],
   "source": [
    "\n",
    "def get_excel_files(path):\n",
    "    excel_files = []\n",
    "    for file in Path(path).glob('*.xls*'):\n",
    "        excel_files.append(file)\n",
    "        # logger.info(f\"Found file: {file}\")\n",
    "    #return list if it has values else end program\n",
    "    if excel_files:\n",
    "        return excel_files\n",
    "    else:\n",
    "        raise Exception(\"No excel files found\")\n",
    "\n",
    "\n",
    "    \n",
    "\n",
    "def add_iso_date(file : Path):\n",
    "\n",
    "    dt_df = pd.read_excel(file,nrows=1,header=None)\n",
    "    dt = pd.to_datetime(dt_df[0].str.split('Date :',expand=True)[1]).dt.strftime('%Y-%m-%d_%H-%M-%S')\n",
    "\n",
    "    file_name = f\"{dt}_{file.stem}{file.suffix}\"\n",
    "    file.rename(file.parent.parent.joinpath('processed',file_name))\n",
    "    # logger.info(f\"Renamed file: {file.stem} -> {file_name}\")\n",
    "    return file_name"
   ]
  },
  {
   "cell_type": "code",
   "execution_count": 633,
   "metadata": {},
   "outputs": [],
   "source": [
    "files = get_excel_files('../files/raw/unprocessed')"
   ]
  },
  {
   "cell_type": "code",
   "execution_count": 634,
   "metadata": {},
   "outputs": [],
   "source": [
    "df = pd.read_excel(files[0],engine='xlrd',nrows=5000,header=None)"
   ]
  },
  {
   "cell_type": "code",
   "execution_count": 637,
   "metadata": {},
   "outputs": [
    {
     "data": {
      "text/plain": [
       "388"
      ]
     },
     "execution_count": 637,
     "metadata": {},
     "output_type": "execute_result"
    }
   ],
   "source": [
    "df[df[0].str.contains('Year')==True].index[1] - 5 #the first company names is usually 4-5 rows before the columns.\n"
   ]
  },
  {
   "cell_type": "code",
   "execution_count": 623,
   "metadata": {},
   "outputs": [
    {
     "data": {
      "text/plain": [
       "393"
      ]
     },
     "execution_count": 623,
     "metadata": {},
     "output_type": "execute_result"
    }
   ],
   "source": []
  },
  {
   "cell_type": "code",
   "execution_count": 625,
   "metadata": {},
   "outputs": [
    {
     "data": {
      "text/plain": [
       "'2021-12-14_15-24-06'"
      ]
     },
     "execution_count": 625,
     "metadata": {},
     "output_type": "execute_result"
    }
   ],
   "source": [
    "pd.to_datetime(df[0].str.split('Date :',expand=True)[1]).dt.strftime('%Y-%m-%d_%H-%M-%S')[0]"
   ]
  },
  {
   "cell_type": "code",
   "execution_count": 582,
   "metadata": {},
   "outputs": [],
   "source": [
    "# cleaned_frames = {}\n",
    "\n",
    "# for index, dataframe in dfs.items():\n",
    "#     # dataframe = dfs[1].copy()\n",
    "#     df_new = dataframe.copy()\n",
    "#     df_new = df_new.dropna(subset=[0],how='all')\n",
    "#     unit_vals = df_new.iloc[0].str.split('\\n',expand=True)\n",
    "#     units = unit_vals[unit_vals.columns[-1]].str.replace('\\(|\\)','',regex=True).str.strip()\n",
    "#     vals = unit_vals[unit_vals.columns[:-1]].fillna('').agg(' '.join,axis=1).str.strip()\n",
    "#     df_new.columns = pd.MultiIndex.from_tuples(list(zip(vals,units)))\n",
    "#     df_new = df_new.iloc[1:]\n",
    "#     df_new['Year'] = pd.to_datetime(df_new.iloc[:,0],errors='coerce').dt.strftime('%d/%m/%Y')\n",
    "#     df_new = df_new.dropna(subset=df_new.iloc[:,:1].columns)\n",
    "#     case = df_new.iloc[:,-1].unique()[0]\n",
    "#     df3 = df_new.set_index('Year').stack([0,1]).unstack(0)\n",
    "#     cols = [pd.to_datetime(x).strftime('%d/%m/%Y')[0] for x in df3.columns]\n",
    "#     df3 = df3.assign(caseName=case).set_index('caseName',append=True).reset_index().rename(columns={'level_1' : 'ValueType', 'level_0' : 'Units'})\n",
    "#     df3.columns = ['ValueType','Units','CaseName'] + cols\n",
    "#     df3 = df3[['CaseName','ValueType','Units'] + cols]\n",
    "#     cleaned_frames[index] = df3\n",
    "# final = pd.concat(cleaned_frames)\n",
    "\n",
    "# k = { x : pd.to_datetime(x) for x in final.iloc[:,3:].columns}\n",
    "# cols = dict(sorted(k.items(), key=lambda item: item[1])).keys()\n",
    "\n",
    "# final = final[['CaseName','ValueType','Units'] + list(cols)]\n",
    "\n",
    "# sort_col = {\n",
    "#     \"1\": \"Oil Net\",\n",
    "#     \"2\": \"Gas Net\",\n",
    "#     \"3\": \"NGL Net\",\n",
    "#     \"4\": \"Oil Price\",\n",
    "#     \"5\": \"Gas  Price\",\n",
    "#     \"6\": \"NGL  Price\",\n",
    "#     \"8\": \"Oil  & Gas Rev. Net\",\n",
    "#     \"9\": \"Misc.  Rev. Net\",\n",
    "#     \"7\": \"Costs Net\",\n",
    "#     \"10\": \"Taxes Net\",\n",
    "# \"11\": \"Gas Gross\",\n",
    "# \"12\": \"NGL Gross\",\n",
    "# \"13\": \"Oil Gross\",\n",
    "# \"14\": \"Invest. Net\",\n",
    "# \"15\": \"NonDisc. CF Annual\",\n",
    "# \"16\": \"Cum Disc.CF\"\n",
    "# }\n",
    "\n",
    "# final = final.fillna(0)\n",
    "# final['ValueType'] = pd.Categorical(final['ValueType'],sort_col.values())\n",
    "# final.index.names = ['idx','index_row']\n",
    "# final = final.sort_values(['idx','ValueType'])"
   ]
  },
  {
   "cell_type": "code",
   "execution_count": 588,
   "metadata": {},
   "outputs": [],
   "source": [
    "# final.to_excel(f\"../files/processed/{pd.Timestamp('now').strftime('%Y-%m-%d')}_oildata.xlsx\",index=False)"
   ]
  },
  {
   "cell_type": "markdown",
   "metadata": {},
   "source": [
    "df2"
   ]
  }
 ],
 "metadata": {
  "interpreter": {
   "hash": "d36e08b901e2f238743b53bdd6f2198dcace8293c50ee3bfcc80f73059c45d0a"
  },
  "kernelspec": {
   "display_name": "Python 3.8.10 64-bit ('artem_excel-6ecZRgUA': pipenv)",
   "language": "python",
   "name": "python3"
  },
  "language_info": {
   "codemirror_mode": {
    "name": "ipython",
    "version": 3
   },
   "file_extension": ".py",
   "mimetype": "text/x-python",
   "name": "python",
   "nbconvert_exporter": "python",
   "pygments_lexer": "ipython3",
   "version": "3.8.10"
  },
  "orig_nbformat": 4
 },
 "nbformat": 4,
 "nbformat_minor": 2
}
